{
 "cells": [
  {
   "cell_type": "code",
   "execution_count": 5,
   "id": "e49f1dd9-5d1d-4969-9889-c6b864cea8a7",
   "metadata": {},
   "outputs": [],
   "source": [
    "import pandas as pd\n",
    "import numpy as np"
   ]
  },
  {
   "cell_type": "code",
   "execution_count": 6,
   "id": "3f52ab85-ffc8-4d3a-b575-69967b0c5ff6",
   "metadata": {},
   "outputs": [],
   "source": [
    "data=pd.read_csv(\"CreditScore.csv\")"
   ]
  },
  {
   "cell_type": "code",
   "execution_count": null,
   "id": "1a953842-7ba6-4d54-90cf-58d29cb2221d",
   "metadata": {},
   "outputs": [],
   "source": [
    "data.head(5)"
   ]
  },
  {
   "cell_type": "code",
   "execution_count": null,
   "id": "74018267-1d5f-4806-bab1-d3e94b2dca55",
   "metadata": {},
   "outputs": [],
   "source": [
    "data.info()"
   ]
  },
  {
   "cell_type": "code",
   "execution_count": null,
   "id": "1927f7bd-6696-4aac-8cf3-1e0af1561519",
   "metadata": {},
   "outputs": [],
   "source": [
    "data.tail()"
   ]
  },
  {
   "cell_type": "code",
   "execution_count": null,
   "id": "f4c1b6bd-3863-49a3-b94b-1d383db129f4",
   "metadata": {},
   "outputs": [],
   "source": [
    "import pandas as pd\n",
    "from sklearn.model_selection import train_test_split, cross_val_score, GridSearchCV\n",
    "from sklearn.preprocessing import OneHotEncoder, StandardScaler\n",
    "from sklearn.compose import ColumnTransformer\n",
    "from sklearn.pipeline import Pipeline\n",
    "from sklearn.ensemble import RandomForestClassifier\n",
    "from sklearn.impute import SimpleImputer\n",
    "from sklearn.metrics import precision_score, recall_score"
   ]
  },
  {
   "cell_type": "code",
   "execution_count": null,
   "id": "a751559b-6b6d-42d2-8f52-e56f747e799a",
   "metadata": {},
   "outputs": [],
   "source": [
    "data.dropna(subset=['Credit_Score'], inplace=True)"
   ]
  },
  {
   "cell_type": "code",
   "execution_count": null,
   "id": "1dd8d5eb-9e77-4995-90b0-b3d53286d7ec",
   "metadata": {},
   "outputs": [],
   "source": [
    "data.shape"
   ]
  },
  {
   "cell_type": "code",
   "execution_count": null,
   "id": "dffa7378-28b8-4976-98f2-793c4a386efe",
   "metadata": {},
   "outputs": [],
   "source": [
    "# Define columns based on data types for preprocessing\n",
    "numeric_features = data.select_dtypes(include=['float64', 'int64']).columns.tolist()\n",
    "categorical_features = ['Type_of_Loan', 'Credit_Mix', 'Payment_Behaviour']"
   ]
  },
  {
   "cell_type": "code",
   "execution_count": null,
   "id": "6f267799-2fb7-417a-ab52-efb1fa015970",
   "metadata": {},
   "outputs": [],
   "source": [
    "# Defining transformers for different types of features\n",
    "numeric_transformer = Pipeline(steps=[\n",
    "    ('imputer', SimpleImputer(strategy='median')),\n",
    "    ('scaler', StandardScaler())\n",
    "])\n",
    "\n",
    "categorical_transformer = Pipeline(steps=[\n",
    "    ('imputer', SimpleImputer(strategy='constant', fill_value='missing')),\n",
    "    ('onehot', OneHotEncoder(handle_unknown='ignore'))\n",
    "])\n"
   ]
  },
  {
   "cell_type": "code",
   "execution_count": null,
   "id": "64e96123-f33f-4ff9-90b7-3c4feb17e094",
   "metadata": {},
   "outputs": [],
   "source": [
    "\n",
    "# Combining transformers using ColumnTransformer\n",
    "preprocessor = ColumnTransformer(\n",
    "    transformers=[\n",
    "        ('num', numeric_transformer, numeric_features),\n",
    "        ('cat', categorical_transformer, categorical_features)\n",
    "    ])\n"
   ]
  },
  {
   "cell_type": "code",
   "execution_count": null,
   "id": "98017ca8-9525-4177-9ad1-32dbd255e6e2",
   "metadata": {},
   "outputs": [],
   "source": [
    "# Splitting the data into train and test sets\n",
    "y = data['Credit_Score']\n",
    "X = data.drop('Credit_Score', axis=1)\n"
   ]
  },
  {
   "cell_type": "code",
   "execution_count": null,
   "id": "835fd672-77f4-4c15-b1bf-733a70540fe9",
   "metadata": {},
   "outputs": [],
   "source": [
    "X_train, X_test, y_train, y_test = train_test_split(X, y, test_size=0.2, random_state=42)\n"
   ]
  },
  {
   "cell_type": "code",
   "execution_count": null,
   "id": "b3e8d89b-0c8f-471a-ade9-324d98047508",
   "metadata": {},
   "outputs": [],
   "source": [
    "# Creating the pipeline with RandomForestClassifier\n",
    "pipeline = Pipeline(steps=[('preprocessor', preprocessor),\n",
    "                           ('classifier', RandomForestClassifier())])"
   ]
  },
  {
   "cell_type": "code",
   "execution_count": null,
   "id": "2123be2b-5d42-464c-9f50-b25610e40bcf",
   "metadata": {},
   "outputs": [],
   "source": [
    "\n",
    "\n",
    "# Cross-validation score\n",
    "cv_score = cross_val_score(pipeline, X_train, y_train, cv=5)\n",
    "print(f\"Cross Validation Score: {cv_score.mean()}\")"
   ]
  },
  {
   "cell_type": "code",
   "execution_count": null,
   "id": "074729fa-ebc9-4310-b3d7-3d8cb7607768",
   "metadata": {},
   "outputs": [],
   "source": [
    "\n",
    "\n",
    "# Define RandomForestClassifier hyperparameters for GridSearchCV\n",
    "param_grid = {\n",
    "    'classifier__n_estimators': [100, 200, 300],\n",
    "    'classifier__max_depth': [None, 10, 20, 30],\n",
    "    'classifier__min_samples_split': [2, 5, 10],\n",
    "    'classifier__min_samples_leaf': [1, 2, 4]\n",
    "}\n",
    "\n",
    "# GridSearchCV\n",
    "grid_search = GridSearchCV(pipeline, param_grid, cv=5)\n",
    "grid_search.fit(X_train, y_train)\n",
    "\n",
    "# Training the model with best parameters\n",
    "best_model = grid_search.best_estimator_\n",
    "best_model.fit(X_train, y_train)\n",
    "\n",
    "# Making predictions\n",
    "y_pred = best_model.predict(X_test)\n",
    "\n",
    "# Evaluating precision and recall\n",
    "precision = precision_score(y_test, y_pred, average='weighted')\n",
    "recall = recall_score(y_test, y_pred, average='weighted')\n",
    "print(f\"Precision: {precision}\")\n",
    "print(f\"Recall: {recall}\")\n",
    "\n",
    "# Displaying the 10 most important features\n",
    "feature_importances = best_model.named_steps['classifier'].feature_importances_\n",
    "feature_names = numeric_features + \\\n",
    "                list(best_model.named_steps['preprocessor']\n",
    "                     .named_transformers_['cat']\n",
    "                     .named_steps['onehot']\n",
    "                     .get_feature_names(categorical_features))\n",
    "\n",
    "importance_df = pd.DataFrame({'Feature': feature_names, 'Importance': feature_importances})\n",
    "top_10_features = importance_df.sort_values(by='Importance', ascending=False).head(10)\n",
    "print(\"Top 10 Most Important Features:\")\n",
    "print(top_10_features)\n"
   ]
  },
  {
   "cell_type": "code",
   "execution_count": null,
   "id": "70cf0a64-6754-480e-8ace-2eea139c428a",
   "metadata": {},
   "outputs": [],
   "source": []
  },
  {
   "cell_type": "code",
   "execution_count": null,
   "id": "e971473f-9a23-4603-a5e0-a827eac13860",
   "metadata": {},
   "outputs": [],
   "source": []
  },
  {
   "cell_type": "code",
   "execution_count": null,
   "id": "2faa65d3-3558-4c4c-8180-0e3d268e36d8",
   "metadata": {},
   "outputs": [],
   "source": []
  },
  {
   "cell_type": "code",
   "execution_count": null,
   "id": "da7dde10-0277-4b2a-81ab-81fbfeb2879d",
   "metadata": {},
   "outputs": [],
   "source": []
  },
  {
   "cell_type": "code",
   "execution_count": null,
   "id": "9d49295d-f414-440f-b1d0-3e9eac956774",
   "metadata": {},
   "outputs": [],
   "source": []
  },
  {
   "cell_type": "code",
   "execution_count": null,
   "id": "948e4e52-323d-4d7b-b3a7-9b6fc28ed636",
   "metadata": {},
   "outputs": [],
   "source": [
    "pip install torch"
   ]
  },
  {
   "cell_type": "code",
   "execution_count": 15,
   "id": "e8673785-2ea2-4919-9136-6b9fb847b1fa",
   "metadata": {},
   "outputs": [],
   "source": [
    "import pandas as pd\n",
    "import numpy as np\n",
    "import torch\n",
    "import torch.nn as nn\n",
    "import torch.optim as optim\n",
    "from sklearn.model_selection import train_test_split\n",
    "from sklearn.preprocessing import StandardScaler, OneHotEncoder\n",
    "from sklearn.compose import ColumnTransformer\n",
    "from sklearn.impute import SimpleImputer\n",
    "from sklearn.pipeline import Pipeline\n",
    "from sklearn.metrics import precision_score, recall_score\n",
    "from scipy import sparse\n",
    "from sklearn.preprocessing import LabelEncoder\n",
    "\n",
    "\n",
    "\n",
    "# Assuming your data is stored in a DataFrame called 'data'\n",
    "# Replace 'data.csv' with your actual file name or data source\n",
    "# data = pd.read_csv('data.csv')\n",
    "\n",
    "\n"
   ]
  },
  {
   "cell_type": "code",
   "execution_count": 16,
   "id": "842f3529-f258-4a2b-add9-150f999b86f2",
   "metadata": {},
   "outputs": [],
   "source": [
    "# Dropping rows with NaN values in the target variable (Credit_Score)\n",
    "data.dropna(subset=['Credit_Score'], inplace=True)\n",
    "\n",
    "\n",
    "# Preprocessing pipeline\n",
    "numeric_features = data.select_dtypes(include=['float64', 'int64']).columns.tolist()\n",
    "categorical_features = ['Type_of_Loan', 'Credit_Mix', 'Payment_Behaviour']\n",
    "\n",
    "numeric_transformer = Pipeline(steps=[\n",
    "    ('imputer', SimpleImputer(strategy='median')),\n",
    "    ('scaler', StandardScaler())\n",
    "])\n",
    "\n",
    "categorical_transformer = Pipeline(steps=[\n",
    "    ('imputer', SimpleImputer(strategy='constant', fill_value='missing')),\n",
    "    ('onehot', OneHotEncoder(handle_unknown='ignore'))\n",
    "])\n",
    "\n",
    "preprocessor = ColumnTransformer(\n",
    "    transformers=[\n",
    "        ('num', numeric_transformer, numeric_features),\n",
    "        ('cat', categorical_transformer, categorical_features)\n",
    "    ])\n",
    "\n"
   ]
  },
  {
   "cell_type": "code",
   "execution_count": 17,
   "id": "d1492894-4232-440a-a60e-c35969a305ca",
   "metadata": {},
   "outputs": [],
   "source": [
    "# Splitting the data into train and test sets\n",
    "X = data.drop('Credit_Score', axis=1)\n",
    "y = data['Credit_Score']\n",
    "X_train, X_test, y_train, y_test = train_test_split(X, y, test_size=0.2, random_state=42)\n"
   ]
  },
  {
   "cell_type": "code",
   "execution_count": 18,
   "id": "218b8600-70ec-4b06-b19e-6ce681d996fc",
   "metadata": {},
   "outputs": [],
   "source": [
    "\n",
    "# Preprocessing data\n",
    "X_train = preprocessor.fit_transform(X_train)\n",
    "X_test = preprocessor.transform(X_test)"
   ]
  },
  {
   "cell_type": "code",
   "execution_count": 19,
   "id": "e1e84484-5b88-4962-9036-13d3c941f666",
   "metadata": {},
   "outputs": [],
   "source": [
    "\n",
    "\n",
    "# Convert to dense array before converting to PyTorch tensors\n",
    "if sparse.issparse(X_train):\n",
    "    X_train = X_train.toarray()\n",
    "if sparse.issparse(X_test):\n",
    "    X_test = X_test.toarray()\n"
   ]
  },
  {
   "cell_type": "code",
   "execution_count": 20,
   "id": "9fcd75a1-3da8-47f0-8793-b0f36649886e",
   "metadata": {},
   "outputs": [],
   "source": [
    "# Assuming 'Credit_Score' is the target column\n",
    "label_encoder = LabelEncoder()\n",
    "y_train = label_encoder.fit_transform(y_train)\n",
    "y_test = label_encoder.transform(y_test)"
   ]
  },
  {
   "cell_type": "code",
   "execution_count": 22,
   "id": "042e1628-25a6-4e40-ac54-400e08339337",
   "metadata": {},
   "outputs": [],
   "source": [
    "# Convert PyTorch tensors to NumPy arrays\n",
    "X_train_np = X_train.astype(np.float32)\n",
    "X_test_np = X_test.astype(np.float32)"
   ]
  },
  {
   "cell_type": "code",
   "execution_count": 23,
   "id": "47570d87-98bc-4963-a253-f90ee69eaea4",
   "metadata": {},
   "outputs": [],
   "source": [
    "# Convert NumPy arrays to PyTorch tensors\n",
    "X_train = torch.tensor(X_train_np)\n",
    "X_test = torch.tensor(X_test_np)\n",
    "y_train = torch.tensor(y_train)\n",
    "y_test = torch.tensor(y_test)"
   ]
  },
  {
   "cell_type": "code",
   "execution_count": 24,
   "id": "03393dac-55f6-49a0-8ea4-420d62eac152",
   "metadata": {},
   "outputs": [],
   "source": [
    "\n",
    "# Define a simple neural network model\n",
    "class NeuralNet(nn.Module):\n",
    "    def __init__(self, input_size, hidden_size, num_classes):\n",
    "        super(NeuralNet, self).__init__()\n",
    "        self.fc1 = nn.Linear(input_size, hidden_size)\n",
    "        self.relu = nn.ReLU()\n",
    "        self.fc2 = nn.Linear(hidden_size, num_classes)\n",
    "\n",
    "    def forward(self, x):\n",
    "        out = self.fc1(x)\n",
    "        out = self.relu(out)\n",
    "        out = self.fc2(out)\n",
    "        return out"
   ]
  },
  {
   "cell_type": "code",
   "execution_count": 28,
   "id": "0a4c7f9b-5b7b-4f05-b194-4a2ae24f916f",
   "metadata": {},
   "outputs": [
    {
     "data": {
      "text/plain": [
       "tensor([0, 1, 2], dtype=torch.int32)"
      ]
     },
     "execution_count": 28,
     "metadata": {},
     "output_type": "execute_result"
    }
   ],
   "source": [
    "y_test.unique()"
   ]
  },
  {
   "cell_type": "code",
   "execution_count": 29,
   "id": "557be2c2-c9a6-4425-87fa-7b5c1ba3537f",
   "metadata": {},
   "outputs": [],
   "source": [
    "# Hyperparameters\n",
    "input_size = X_train.shape[1]\n",
    "hidden_size = 128\n",
    "num_classes = 3\n",
    "learning_rate = 0.001\n",
    "num_epochs = 10\n",
    "batch_size = 64"
   ]
  },
  {
   "cell_type": "code",
   "execution_count": 30,
   "id": "885c6291-7628-482e-9040-e90097abe301",
   "metadata": {},
   "outputs": [],
   "source": [
    "# Initialize the model, loss function, and optimizer\n",
    "model = NeuralNet(input_size, hidden_size, num_classes)\n",
    "criterion = nn.CrossEntropyLoss()\n",
    "optimizer = optim.Adam(model.parameters(), lr=learning_rate)"
   ]
  },
  {
   "cell_type": "code",
   "execution_count": null,
   "id": "0332a0a2-7d3a-403f-bd69-6ace3826e5e2",
   "metadata": {},
   "outputs": [],
   "source": [
    "# Training the model\n",
    "for epoch in range(num_epochs):\n",
    "    for i in range(0, len(X_train), batch_size):\n",
    "        inputs = X_train[i:i+batch_size]\n",
    "        targets = y_train[i:i+batch_size].long()  # Convert to torch.long\n",
    "\n",
    "        # Forward pass\n",
    "        outputs = model(inputs)\n",
    "        loss = criterion(outputs, targets)\n",
    "\n",
    "        # Backward pass and optimization\n",
    "        optimizer.zero_grad()\n",
    "        loss.backward()\n",
    "        optimizer.step()\n",
    "\n",
    "    print(f'Epoch [{epoch+1}/{num_epochs}], Loss: {loss.item():.4f}')\n"
   ]
  },
  {
   "cell_type": "code",
   "execution_count": null,
   "id": "a508f6af-201c-4cc1-a13a-24bc5b7a4a8f",
   "metadata": {},
   "outputs": [],
   "source": [
    "# Evaluating the model\n",
    "with torch.no_grad():\n",
    "    outputs = model(X_test)\n",
    "    _, predicted = torch.max(outputs, 1)\n",
    "    precision = precision_score(y_test, predicted, average='weighted')\n",
    "    recall = recall_score(y_test, predicted, average='weighted')\n",
    "\n",
    "print(f'Precision: {precision}')\n",
    "print(f'Recall: {recall}')"
   ]
  },
  {
   "cell_type": "code",
   "execution_count": null,
   "id": "88d5637b-3281-41a0-a797-129f82511dac",
   "metadata": {},
   "outputs": [],
   "source": []
  }
 ],
 "metadata": {
  "kernelspec": {
   "display_name": "Python 3 (ipykernel)",
   "language": "python",
   "name": "python3"
  },
  "language_info": {
   "codemirror_mode": {
    "name": "ipython",
    "version": 3
   },
   "file_extension": ".py",
   "mimetype": "text/x-python",
   "name": "python",
   "nbconvert_exporter": "python",
   "pygments_lexer": "ipython3",
   "version": "3.9.13"
  }
 },
 "nbformat": 4,
 "nbformat_minor": 5
}
